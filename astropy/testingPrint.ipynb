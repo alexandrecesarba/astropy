{
 "cells": [
  {
   "cell_type": "code",
   "execution_count": 1,
   "metadata": {},
   "outputs": [
    {
     "ename": "ValueError",
     "evalue": "could not convert string to float: 'first_amplitude'",
     "output_type": "error",
     "traceback": [
      "\u001b[0;31m---------------------------------------------------------------------------\u001b[0m",
      "\u001b[0;31mValueError\u001b[0m                                Traceback (most recent call last)",
      "\u001b[1;32m/Users/alexandrecesarba/Documents/PUC-Rio/INF1038/astropy/astropy/testingPrint.ipynb Cell 1\u001b[0m line \u001b[0;36m4\n\u001b[1;32m      <a href='vscode-notebook-cell:/Users/alexandrecesarba/Documents/PUC-Rio/INF1038/astropy/astropy/testingPrint.ipynb#W0sZmlsZQ%3D%3D?line=0'>1</a>\u001b[0m \u001b[39mfrom\u001b[39;00m \u001b[39mastropy\u001b[39;00m\u001b[39m.\u001b[39;00m\u001b[39mmodeling\u001b[39;00m\u001b[39m.\u001b[39;00m\u001b[39mmodels\u001b[39;00m \u001b[39mimport\u001b[39;00m Gaussian1D\n\u001b[1;32m      <a href='vscode-notebook-cell:/Users/alexandrecesarba/Documents/PUC-Rio/INF1038/astropy/astropy/testingPrint.ipynb#W0sZmlsZQ%3D%3D?line=2'>3</a>\u001b[0m g \u001b[39m=\u001b[39m Gaussian1D(amplitude\u001b[39m=\u001b[39m\u001b[39m10.2\u001b[39m, mean\u001b[39m=\u001b[39m\u001b[39m2.3\u001b[39m, stddev\u001b[39m=\u001b[39m\u001b[39m1.2\u001b[39m, name\u001b[39m=\u001b[39m\u001b[39m'\u001b[39m\u001b[39mfirst\u001b[39m\u001b[39m'\u001b[39m)\n\u001b[0;32m----> <a href='vscode-notebook-cell:/Users/alexandrecesarba/Documents/PUC-Rio/INF1038/astropy/astropy/testingPrint.ipynb#W0sZmlsZQ%3D%3D?line=3'>4</a>\u001b[0m \u001b[39mprint\u001b[39;49m(g)\n",
      "File \u001b[0;32m~/Documents/PUC-Rio/INF1038/astropy/astropy/modeling/core.py:909\u001b[0m, in \u001b[0;36mModel.__str__\u001b[0;34m(self)\u001b[0m\n\u001b[1;32m    908\u001b[0m \u001b[39mdef\u001b[39;00m \u001b[39m__str__\u001b[39m(\u001b[39mself\u001b[39m):\n\u001b[0;32m--> 909\u001b[0m     \u001b[39mreturn\u001b[39;00m \u001b[39mself\u001b[39;49m\u001b[39m.\u001b[39;49m_format_str()\n",
      "File \u001b[0;32m~/Documents/PUC-Rio/INF1038/astropy/astropy/modeling/core.py:2885\u001b[0m, in \u001b[0;36mModel._format_str\u001b[0;34m(self, keywords, defaults)\u001b[0m\n\u001b[1;32m   2883\u001b[0m     \u001b[39m# Set units on the columns\u001b[39;00m\n\u001b[1;32m   2884\u001b[0m     \u001b[39mfor\u001b[39;00m name \u001b[39min\u001b[39;00m \u001b[39mself\u001b[39m\u001b[39m.\u001b[39mparam_names:\n\u001b[0;32m-> 2885\u001b[0m         param_table[name] \u001b[39m=\u001b[39m (\u001b[39mstr\u001b[39m(\u001b[39mself\u001b[39m\u001b[39m.\u001b[39mname \u001b[39m+\u001b[39m \u001b[39m\"\u001b[39m\u001b[39m_\u001b[39m\u001b[39m\"\u001b[39m \u001b[39m+\u001b[39m name))\n\u001b[1;32m   2887\u001b[0m     parts\u001b[39m.\u001b[39mappend(indent(\u001b[39mstr\u001b[39m(param_table), width\u001b[39m=\u001b[39m\u001b[39m4\u001b[39m))\n\u001b[1;32m   2889\u001b[0m \u001b[39mreturn\u001b[39;00m \u001b[39m\"\u001b[39m\u001b[39m\\n\u001b[39;00m\u001b[39m\"\u001b[39m\u001b[39m.\u001b[39mjoin(parts)\n",
      "File \u001b[0;32m~/Documents/PUC-Rio/INF1038/astropy/astropy/table/table.py:2116\u001b[0m, in \u001b[0;36mTable.__setitem__\u001b[0;34m(self, item, value)\u001b[0m\n\u001b[1;32m   2114\u001b[0m         \u001b[39mexcept\u001b[39;00m \u001b[39mException\u001b[39;00m:\n\u001b[1;32m   2115\u001b[0m             \u001b[39mpass\u001b[39;00m\n\u001b[0;32m-> 2116\u001b[0m     \u001b[39mself\u001b[39;49m\u001b[39m.\u001b[39;49mcolumns[item][:] \u001b[39m=\u001b[39m value\n\u001b[1;32m   2118\u001b[0m \u001b[39melif\u001b[39;00m \u001b[39misinstance\u001b[39m(item, (\u001b[39mint\u001b[39m, np\u001b[39m.\u001b[39minteger)):\n\u001b[1;32m   2119\u001b[0m     \u001b[39mself\u001b[39m\u001b[39m.\u001b[39m_set_row(idx\u001b[39m=\u001b[39mitem, colnames\u001b[39m=\u001b[39m\u001b[39mself\u001b[39m\u001b[39m.\u001b[39mcolnames, vals\u001b[39m=\u001b[39mvalue)\n",
      "File \u001b[0;32m~/Documents/PUC-Rio/INF1038/astropy/astropy/table/column.py:1365\u001b[0m, in \u001b[0;36mColumn.__setitem__\u001b[0;34m(self, index, value)\u001b[0m\n\u001b[1;32m   1361\u001b[0m \u001b[39mself\u001b[39m\u001b[39m.\u001b[39minfo\u001b[39m.\u001b[39madjust_indices(index, value, \u001b[39mlen\u001b[39m(\u001b[39mself\u001b[39m))\n\u001b[1;32m   1363\u001b[0m \u001b[39m# Set items using a view of the underlying data, as it gives an\u001b[39;00m\n\u001b[1;32m   1364\u001b[0m \u001b[39m# order-of-magnitude speed-up. [#2994]\u001b[39;00m\n\u001b[0;32m-> 1365\u001b[0m \u001b[39mself\u001b[39;49m\u001b[39m.\u001b[39;49mdata[index] \u001b[39m=\u001b[39m value\n",
      "\u001b[0;31mValueError\u001b[0m: could not convert string to float: 'first_amplitude'"
     ]
    }
   ],
   "source": [
    "from astropy.modeling.models import Gaussian1D\n",
    "\n",
    "g = Gaussian1D(amplitude=10.2, mean=2.3, stddev=1.2, name='first')\n",
    "print(g)"
   ]
  }
 ],
 "metadata": {
  "kernelspec": {
   "display_name": "Python 3",
   "language": "python",
   "name": "python3"
  },
  "language_info": {
   "codemirror_mode": {
    "name": "ipython",
    "version": 3
   },
   "file_extension": ".py",
   "mimetype": "text/x-python",
   "name": "python",
   "nbconvert_exporter": "python",
   "pygments_lexer": "ipython3",
   "version": "3.10.8"
  }
 },
 "nbformat": 4,
 "nbformat_minor": 2
}
